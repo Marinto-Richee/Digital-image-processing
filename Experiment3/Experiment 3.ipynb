{
 "cells": [
  {
   "cell_type": "code",
   "execution_count": 1,
   "id": "3d1fa815",
   "metadata": {},
   "outputs": [],
   "source": [
    "import cv2\n",
    "image=cv2.imread(\"2107198.png\")\n",
    "cv2.imshow(\"Input\",image)\n",
    "BGR_HSV=cv2.cvtColor(image,cv2.COLOR_BGR2HSV)\n",
    "cv2.imshow(\"BGR to HSV\",BGR_HSV)\n",
    "BGR_GRAY=cv2.cvtColor(image,cv2.COLOR_BGR2GRAY)\n",
    "cv2.imshow(\"BGR to GRAY\",BGR_GRAY)\n",
    "RGB_HSV=cv2.cvtColor(image,cv2.COLOR_RGB2HSV)\n",
    "cv2.imshow(\"RGB to HSV\",RGB_HSV)\n",
    "RGB_GRAY=cv2.cvtColor(image,cv2.COLOR_RGB2GRAY)\n",
    "cv2.imshow(\"RGB to GRAY\",RGB_GRAY)\n",
    "cv2.waitKey(0)\n",
    "cv2.destroyAllWindows()"
   ]
  },
  {
   "cell_type": "code",
   "execution_count": 2,
   "id": "ebb2576c",
   "metadata": {},
   "outputs": [],
   "source": [
    "hsv=cv2.cvtColor(image,cv2.COLOR_BGR2HSV)\n",
    "cv2.imshow(\"HSV\",hsv)\n",
    "HSV_RGB=cv2.cvtColor(image,cv2.COLOR_HSV2RGB)\n",
    "cv2.imshow(\"HSV to RGB\",HSV_RGB)\n",
    "HSV_BGR=cv2.cvtColor(image,cv2.COLOR_HSV2BGR)\n",
    "cv2.imshow(\"HSV to BGR\",HSV_BGR)\n",
    "cv2.waitKey(0)\n",
    "cv2.destroyAllWindows()"
   ]
  },
  {
   "cell_type": "code",
   "execution_count": 3,
   "id": "1cce607e",
   "metadata": {},
   "outputs": [],
   "source": [
    "RGB_YCrCb=cv2.cvtColor(image,cv2.COLOR_RGB2YCrCb)\n",
    "cv2.imshow(\"RGB to YCrCb\",RGB_YCrCb)\n",
    "BGR_YCrCb=cv2.cvtColor(image,cv2.COLOR_BGR2YCrCb)\n",
    "cv2.imshow(\"BGR to YCrCb\",BGR_YCrCb)\n",
    "cv2.imshow(\"Input\",image)\n",
    "cv2.waitKey(0)\n",
    "cv2.destroyAllWindows()"
   ]
  },
  {
   "cell_type": "code",
   "execution_count": 4,
   "id": "0370ad56",
   "metadata": {},
   "outputs": [],
   "source": [
    "blue = image[:,:,0]\n",
    "cv2.imshow(\"Blue Split\",blue)\n",
    "green = image[:,:,1]\n",
    "cv2.imshow(\"Green Split\",green)\n",
    "red = image[:,:,2]\n",
    "cv2.imshow(\"Red Split\",red)\n",
    "merged=cv2.merge((blue,green,red))\n",
    "cv2.imshow(\"Merged\",merged)\n",
    "cv2.imshow(\"Input\",image)\n",
    "cv2.waitKey(0)\n",
    "cv2.destroyAllWindows()"
   ]
  },
  {
   "cell_type": "code",
   "execution_count": 5,
   "id": "ecf50874",
   "metadata": {},
   "outputs": [],
   "source": [
    "h, s, v = cv2.split(hsv)\n",
    "cv2.imshow('h_plane', h)\n",
    "cv2.imshow('s_plane', s)\n",
    "cv2.imshow('v_plane', v)\n",
    "mergedhsv=cv2.merge((h,s,v))\n",
    "cv2.imshow(\"HSV\",hsv)\n",
    "cv2.imshow('Merged HSV',mergedhsv)\n",
    "cv2.waitKey(0)\n",
    "cv2.destroyAllWindows()"
   ]
  }
 ],
 "metadata": {
  "kernelspec": {
   "display_name": "Python 3 (ipykernel)",
   "language": "python",
   "name": "python3"
  },
  "language_info": {
   "codemirror_mode": {
    "name": "ipython",
    "version": 3
   },
   "file_extension": ".py",
   "mimetype": "text/x-python",
   "name": "python",
   "nbconvert_exporter": "python",
   "pygments_lexer": "ipython3",
   "version": "3.9.7"
  }
 },
 "nbformat": 4,
 "nbformat_minor": 5
}
