{
 "cells": [
  {
   "cell_type": "code",
   "execution_count": 21,
   "id": "8e532d55",
   "metadata": {},
   "outputs": [
    {
     "name": "stdout",
     "output_type": "stream",
     "text": [
      "It rained on his lousy tombstone, and it rained on the grass on his stomach. It rained all over the place.\n"
     ]
    }
   ],
   "source": [
    "string=input()"
   ]
  },
  {
   "cell_type": "code",
   "execution_count": 22,
   "id": "4f876711",
   "metadata": {},
   "outputs": [],
   "source": [
    "class NodeTree(object):\n",
    "    def __init__(self,left=None,right=None):\n",
    "        self.left=left\n",
    "        self.right=right\n",
    "    def children(self):\n",
    "        return(self.left,self.right)\n",
    "    def  nodes(self):\n",
    "        return (self.left,self.right)\n",
    "    def __str__(self):\n",
    "        return '%s_%s'%(self.left,self.right)"
   ]
  },
  {
   "cell_type": "code",
   "execution_count": 23,
   "id": "caeeb10a",
   "metadata": {},
   "outputs": [],
   "source": [
    "def huffman_code_tree(node,left=True,binString=''):\n",
    "    if type(node) is str:\n",
    "        return {node: binString}\n",
    "    (l,r)=node.children()\n",
    "    d=dict()\n",
    "    d.update(huffman_code_tree(l,True,binString+'0'))\n",
    "    d.update(huffman_code_tree(r,False,binString+'1'))    \n",
    "    return d"
   ]
  },
  {
   "cell_type": "code",
   "execution_count": 24,
   "id": "0719dd6d",
   "metadata": {},
   "outputs": [],
   "source": [
    "freq={}\n",
    "for c in string:\n",
    "    if c in freq:\n",
    "        freq[c]+=1\n",
    "    else:\n",
    "        freq[c]=1\n",
    "freq =sorted(freq.items(),key=lambda x:x[1],reverse=True)\n",
    "nodes = freq"
   ]
  },
  {
   "cell_type": "code",
   "execution_count": 25,
   "id": "773a9d74",
   "metadata": {},
   "outputs": [],
   "source": [
    "while len(nodes) > 1:\n",
    "    (key1,c1)=nodes[-1]\n",
    "    (key2,c2)=nodes[-2]\n",
    "    nodes=nodes[:-2]\n",
    "    node=NodeTree(key1,key2)\n",
    "    nodes.append((node,c1+c2))\n",
    "    nodes=sorted(nodes,key=lambda x:x[1],reverse=True)"
   ]
  },
  {
   "cell_type": "code",
   "execution_count": 26,
   "id": "21961029",
   "metadata": {},
   "outputs": [
    {
     "name": "stdout",
     "output_type": "stream",
     "text": [
      " Char | Huffman Code \n",
      "______________________\n",
      " ' '  |          00\n",
      " 't'  |        1011\n",
      " 'a'  |        1010\n",
      " 'n'  |        1101\n",
      " 'e'  |        1100\n",
      " 'o'  |        1111\n",
      " 's'  |        1000\n",
      " 'i'  |        0110\n",
      " 'r'  |        0101\n",
      " 'h'  |        0100\n",
      " 'd'  |       10011\n",
      " 'l'  |       10010\n",
      " 'I'  |      011111\n",
      " 'm'  |      011110\n",
      " 'c'  |      111001\n",
      " '.'  |      111000\n",
      " 'u'  |      011100\n",
      " 'y'  |     0111011\n",
      " 'b'  |     0111010\n",
      " ','  |     1110101\n",
      " 'g'  |     1110100\n",
      " 'v'  |     1110111\n",
      " 'p'  |     1110110\n"
     ]
    }
   ],
   "source": [
    "huffmanCode= huffman_code_tree(nodes[0][0])\n",
    "print(' Char | Huffman Code ')\n",
    "print(\"______________________\")\n",
    "for (char,freqqq) in freq:\n",
    "    print(' %-4r |%12s'%(char,huffmanCode[char]))"
   ]
  }
 ],
 "metadata": {
  "kernelspec": {
   "display_name": "Python 3 (ipykernel)",
   "language": "python",
   "name": "python3"
  },
  "language_info": {
   "codemirror_mode": {
    "name": "ipython",
    "version": 3
   },
   "file_extension": ".py",
   "mimetype": "text/x-python",
   "name": "python",
   "nbconvert_exporter": "python",
   "pygments_lexer": "ipython3",
   "version": "3.9.7"
  }
 },
 "nbformat": 4,
 "nbformat_minor": 5
}
