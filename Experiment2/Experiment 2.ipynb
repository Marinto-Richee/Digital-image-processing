{
 "cells": [
  {
   "cell_type": "code",
   "execution_count": null,
   "id": "0e3d1a89",
   "metadata": {},
   "outputs": [],
   "source": [
    "import cv2\n",
    "webcam = cv2.VideoCapture(0)\n",
    "while(True):\n",
    "    ret,frame = webcam.read()\n",
    "    cv2.imwrite(\"Wall.jpg\",frame)\n",
    "    result = False\n",
    "image.release()\n",
    "cv2.destroyAllWindows()"
   ]
  },
  {
   "cell_type": "code",
   "execution_count": null,
   "id": "7b932609",
   "metadata": {},
   "outputs": [],
   "source": [
    "import cv2\n",
    "Videocap=cv2.VideoCapture(0)\n",
    "while True:\n",
    "    ret,frame=Videocap.read()\n",
    "    cv2.imshow('212220230031', frame)\n",
    "    if cv2.waitKey(1) == ord('q'):\n",
    "        break\n",
    "Videocap.release()\n",
    "cv2.destroyAllWindows()"
   ]
  },
  {
   "cell_type": "code",
   "execution_count": null,
   "id": "93e0277c",
   "metadata": {},
   "outputs": [],
   "source": [
    "import cv2\n",
    "import numpy as np\n",
    "Videoresize=cv2.VideoCapture(0)\n",
    "while True:\n",
    "    ret,frame=Videoresize.read()\n",
    "    width=frame.shape[1]\n",
    "    height=frame.shape[0]\n",
    "    image=np.zeros(frame.shape,np.uint8)\n",
    "    smaller_frame=cv2.resize(frame,(0,0),fx=0.5,fy=0.5)\n",
    "    image[:height//2, :width//2] =smaller_frame\n",
    "    image[:height//2,width//2:]=smaller_frame\n",
    "    image[height//2:,width//2:]=smaller_frame\n",
    "    image[height//2:,:width//2]=smaller_frame\n",
    "    cv2.imshow('212220230031', image)\n",
    "    if cv2.waitKey(1) == ord('q'):\n",
    "        break\n",
    "Videoresize.release()\n",
    "cv2.destroyAllWindows()"
   ]
  },
  {
   "cell_type": "code",
   "execution_count": null,
   "id": "670c789f",
   "metadata": {},
   "outputs": [],
   "source": [
    "import cv2\n",
    "import numpy as np\n",
    "Videorotate=cv2.VideoCapture(0)\n",
    "while True:\n",
    "    ret,frame=Videorotate.read()\n",
    "    width=frame.shape[1]\n",
    "    height=frame.shape[0]\n",
    "    image=np.zeros(frame.shape,np.uint8)\n",
    "    smaller_frame=cv2.resize(frame,(0,0),fx=0.5,fy=0.5)\n",
    "    image[:height//2, :width//2] =cv2.rotate(smaller_frame,cv2.cv2.ROTATE_180)\n",
    "    image[:height//2,width//2:]=cv2.rotate(smaller_frame,cv2.cv2.ROTATE_180)\n",
    "    image[height//2:,width//2:]=smaller_frame\n",
    "    image[height//2:,:width//2]=smaller_frame\n",
    "    cv2.imshow('212220230031', image)\n",
    "    if cv2.waitKey(1) == ord('q'):\n",
    "        break\n",
    "Videorotate.release()\n",
    "cv2.destroyAllWindows()"
   ]
  }
 ],
 "metadata": {
  "kernelspec": {
   "display_name": "Python 3 (ipykernel)",
   "language": "python",
   "name": "python3"
  },
  "language_info": {
   "codemirror_mode": {
    "name": "ipython",
    "version": 3
   },
   "file_extension": ".py",
   "mimetype": "text/x-python",
   "name": "python",
   "nbconvert_exporter": "python",
   "pygments_lexer": "ipython3",
   "version": "3.9.7"
  }
 },
 "nbformat": 4,
 "nbformat_minor": 5
}
